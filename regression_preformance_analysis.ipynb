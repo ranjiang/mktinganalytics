{
 "cells": [
  {
   "cell_type": "code",
   "execution_count": 2,
   "metadata": {
    "id": "YGp9q_BaWwfn"
   },
   "outputs": [],
   "source": [
    "import pandas as pd\n",
    "import numpy as np\n",
    "import utility as util\n",
    "import matplotlib.pyplot as plt"
   ]
  },
  {
   "cell_type": "markdown",
   "metadata": {
    "id": "dIBvFfubWwfr"
   },
   "source": [
    "<b> Part I: Logistic Regression</b>"
   ]
  },
  {
   "cell_type": "code",
   "execution_count": 3,
   "metadata": {
    "id": "mJviCQHuWwfs"
   },
   "outputs": [],
   "source": [
    "data = pd.read_csv('data_customer.csv')"
   ]
  },
  {
   "cell_type": "code",
   "execution_count": 4,
   "metadata": {
    "colab": {
     "base_uri": "https://localhost:8080/",
     "height": 424
    },
    "executionInfo": {
     "elapsed": 346,
     "status": "ok",
     "timestamp": 1676750195369,
     "user": {
      "displayName": "Olivia Natan",
      "userId": "05221168611265745496"
     },
     "user_tz": 480
    },
    "id": "zxhvULJxWwft",
    "outputId": "bf9db24a-254b-46d4-c7cd-70bc12d5f0ac",
    "scrolled": true
   },
   "outputs": [
    {
     "data": {
      "text/html": [
       "<div>\n",
       "<style scoped>\n",
       "    .dataframe tbody tr th:only-of-type {\n",
       "        vertical-align: middle;\n",
       "    }\n",
       "\n",
       "    .dataframe tbody tr th {\n",
       "        vertical-align: top;\n",
       "    }\n",
       "\n",
       "    .dataframe thead th {\n",
       "        text-align: right;\n",
       "    }\n",
       "</style>\n",
       "<table border=\"1\" class=\"dataframe\">\n",
       "  <thead>\n",
       "    <tr style=\"text-align: right;\">\n",
       "      <th></th>\n",
       "      <th>acctnum</th>\n",
       "      <th>gender</th>\n",
       "      <th>state</th>\n",
       "      <th>zip</th>\n",
       "      <th>zip3</th>\n",
       "      <th>first</th>\n",
       "      <th>last</th>\n",
       "      <th>book_</th>\n",
       "      <th>nonbook_</th>\n",
       "      <th>total_</th>\n",
       "      <th>purch</th>\n",
       "      <th>child</th>\n",
       "      <th>youth</th>\n",
       "      <th>cook</th>\n",
       "      <th>do_it</th>\n",
       "      <th>refernce</th>\n",
       "      <th>art</th>\n",
       "      <th>geog</th>\n",
       "      <th>buyer</th>\n",
       "    </tr>\n",
       "  </thead>\n",
       "  <tbody>\n",
       "    <tr>\n",
       "      <th>0</th>\n",
       "      <td>10001</td>\n",
       "      <td>M</td>\n",
       "      <td>NY</td>\n",
       "      <td>10605</td>\n",
       "      <td>106</td>\n",
       "      <td>49</td>\n",
       "      <td>29</td>\n",
       "      <td>109</td>\n",
       "      <td>248</td>\n",
       "      <td>357</td>\n",
       "      <td>10</td>\n",
       "      <td>3</td>\n",
       "      <td>2</td>\n",
       "      <td>2</td>\n",
       "      <td>0</td>\n",
       "      <td>1</td>\n",
       "      <td>0</td>\n",
       "      <td>2</td>\n",
       "      <td>no</td>\n",
       "    </tr>\n",
       "    <tr>\n",
       "      <th>1</th>\n",
       "      <td>10002</td>\n",
       "      <td>M</td>\n",
       "      <td>NY</td>\n",
       "      <td>10960</td>\n",
       "      <td>109</td>\n",
       "      <td>39</td>\n",
       "      <td>27</td>\n",
       "      <td>35</td>\n",
       "      <td>103</td>\n",
       "      <td>138</td>\n",
       "      <td>3</td>\n",
       "      <td>0</td>\n",
       "      <td>1</td>\n",
       "      <td>0</td>\n",
       "      <td>1</td>\n",
       "      <td>0</td>\n",
       "      <td>0</td>\n",
       "      <td>1</td>\n",
       "      <td>no</td>\n",
       "    </tr>\n",
       "    <tr>\n",
       "      <th>2</th>\n",
       "      <td>10003</td>\n",
       "      <td>F</td>\n",
       "      <td>PA</td>\n",
       "      <td>19146</td>\n",
       "      <td>191</td>\n",
       "      <td>19</td>\n",
       "      <td>15</td>\n",
       "      <td>25</td>\n",
       "      <td>147</td>\n",
       "      <td>172</td>\n",
       "      <td>2</td>\n",
       "      <td>0</td>\n",
       "      <td>0</td>\n",
       "      <td>2</td>\n",
       "      <td>0</td>\n",
       "      <td>0</td>\n",
       "      <td>0</td>\n",
       "      <td>0</td>\n",
       "      <td>no</td>\n",
       "    </tr>\n",
       "    <tr>\n",
       "      <th>3</th>\n",
       "      <td>10004</td>\n",
       "      <td>F</td>\n",
       "      <td>NJ</td>\n",
       "      <td>7016</td>\n",
       "      <td>70</td>\n",
       "      <td>7</td>\n",
       "      <td>7</td>\n",
       "      <td>15</td>\n",
       "      <td>257</td>\n",
       "      <td>272</td>\n",
       "      <td>1</td>\n",
       "      <td>0</td>\n",
       "      <td>0</td>\n",
       "      <td>0</td>\n",
       "      <td>0</td>\n",
       "      <td>1</td>\n",
       "      <td>0</td>\n",
       "      <td>0</td>\n",
       "      <td>no</td>\n",
       "    </tr>\n",
       "    <tr>\n",
       "      <th>4</th>\n",
       "      <td>10005</td>\n",
       "      <td>F</td>\n",
       "      <td>NY</td>\n",
       "      <td>10804</td>\n",
       "      <td>108</td>\n",
       "      <td>15</td>\n",
       "      <td>15</td>\n",
       "      <td>15</td>\n",
       "      <td>134</td>\n",
       "      <td>149</td>\n",
       "      <td>1</td>\n",
       "      <td>0</td>\n",
       "      <td>0</td>\n",
       "      <td>1</td>\n",
       "      <td>0</td>\n",
       "      <td>0</td>\n",
       "      <td>0</td>\n",
       "      <td>0</td>\n",
       "      <td>no</td>\n",
       "    </tr>\n",
       "    <tr>\n",
       "      <th>...</th>\n",
       "      <td>...</td>\n",
       "      <td>...</td>\n",
       "      <td>...</td>\n",
       "      <td>...</td>\n",
       "      <td>...</td>\n",
       "      <td>...</td>\n",
       "      <td>...</td>\n",
       "      <td>...</td>\n",
       "      <td>...</td>\n",
       "      <td>...</td>\n",
       "      <td>...</td>\n",
       "      <td>...</td>\n",
       "      <td>...</td>\n",
       "      <td>...</td>\n",
       "      <td>...</td>\n",
       "      <td>...</td>\n",
       "      <td>...</td>\n",
       "      <td>...</td>\n",
       "      <td>...</td>\n",
       "    </tr>\n",
       "    <tr>\n",
       "      <th>49995</th>\n",
       "      <td>59996</td>\n",
       "      <td>F</td>\n",
       "      <td>NY</td>\n",
       "      <td>11967</td>\n",
       "      <td>119</td>\n",
       "      <td>9</td>\n",
       "      <td>9</td>\n",
       "      <td>15</td>\n",
       "      <td>12</td>\n",
       "      <td>27</td>\n",
       "      <td>1</td>\n",
       "      <td>1</td>\n",
       "      <td>0</td>\n",
       "      <td>0</td>\n",
       "      <td>0</td>\n",
       "      <td>0</td>\n",
       "      <td>0</td>\n",
       "      <td>0</td>\n",
       "      <td>no</td>\n",
       "    </tr>\n",
       "    <tr>\n",
       "      <th>49996</th>\n",
       "      <td>59997</td>\n",
       "      <td>F</td>\n",
       "      <td>NJ</td>\n",
       "      <td>8882</td>\n",
       "      <td>88</td>\n",
       "      <td>25</td>\n",
       "      <td>5</td>\n",
       "      <td>79</td>\n",
       "      <td>294</td>\n",
       "      <td>373</td>\n",
       "      <td>7</td>\n",
       "      <td>3</td>\n",
       "      <td>0</td>\n",
       "      <td>1</td>\n",
       "      <td>1</td>\n",
       "      <td>0</td>\n",
       "      <td>1</td>\n",
       "      <td>1</td>\n",
       "      <td>no</td>\n",
       "    </tr>\n",
       "    <tr>\n",
       "      <th>49997</th>\n",
       "      <td>59998</td>\n",
       "      <td>M</td>\n",
       "      <td>NJ</td>\n",
       "      <td>7410</td>\n",
       "      <td>74</td>\n",
       "      <td>3</td>\n",
       "      <td>3</td>\n",
       "      <td>15</td>\n",
       "      <td>178</td>\n",
       "      <td>193</td>\n",
       "      <td>1</td>\n",
       "      <td>0</td>\n",
       "      <td>0</td>\n",
       "      <td>0</td>\n",
       "      <td>0</td>\n",
       "      <td>1</td>\n",
       "      <td>0</td>\n",
       "      <td>0</td>\n",
       "      <td>no</td>\n",
       "    </tr>\n",
       "    <tr>\n",
       "      <th>49998</th>\n",
       "      <td>59999</td>\n",
       "      <td>M</td>\n",
       "      <td>NJ</td>\n",
       "      <td>7090</td>\n",
       "      <td>70</td>\n",
       "      <td>49</td>\n",
       "      <td>29</td>\n",
       "      <td>98</td>\n",
       "      <td>246</td>\n",
       "      <td>344</td>\n",
       "      <td>8</td>\n",
       "      <td>2</td>\n",
       "      <td>0</td>\n",
       "      <td>1</td>\n",
       "      <td>0</td>\n",
       "      <td>2</td>\n",
       "      <td>1</td>\n",
       "      <td>2</td>\n",
       "      <td>no</td>\n",
       "    </tr>\n",
       "    <tr>\n",
       "      <th>49999</th>\n",
       "      <td>60000</td>\n",
       "      <td>M</td>\n",
       "      <td>NY</td>\n",
       "      <td>11355</td>\n",
       "      <td>113</td>\n",
       "      <td>29</td>\n",
       "      <td>1</td>\n",
       "      <td>60</td>\n",
       "      <td>125</td>\n",
       "      <td>185</td>\n",
       "      <td>5</td>\n",
       "      <td>1</td>\n",
       "      <td>0</td>\n",
       "      <td>1</td>\n",
       "      <td>0</td>\n",
       "      <td>0</td>\n",
       "      <td>1</td>\n",
       "      <td>2</td>\n",
       "      <td>no</td>\n",
       "    </tr>\n",
       "  </tbody>\n",
       "</table>\n",
       "<p>50000 rows × 19 columns</p>\n",
       "</div>"
      ],
      "text/plain": [
       "       acctnum gender state    zip  zip3  first  last  book_  nonbook_  \\\n",
       "0        10001      M    NY  10605   106     49    29    109       248   \n",
       "1        10002      M    NY  10960   109     39    27     35       103   \n",
       "2        10003      F    PA  19146   191     19    15     25       147   \n",
       "3        10004      F    NJ   7016    70      7     7     15       257   \n",
       "4        10005      F    NY  10804   108     15    15     15       134   \n",
       "...        ...    ...   ...    ...   ...    ...   ...    ...       ...   \n",
       "49995    59996      F    NY  11967   119      9     9     15        12   \n",
       "49996    59997      F    NJ   8882    88     25     5     79       294   \n",
       "49997    59998      M    NJ   7410    74      3     3     15       178   \n",
       "49998    59999      M    NJ   7090    70     49    29     98       246   \n",
       "49999    60000      M    NY  11355   113     29     1     60       125   \n",
       "\n",
       "       total_  purch  child  youth  cook  do_it  refernce  art  geog buyer  \n",
       "0         357     10      3      2     2      0         1    0     2    no  \n",
       "1         138      3      0      1     0      1         0    0     1    no  \n",
       "2         172      2      0      0     2      0         0    0     0    no  \n",
       "3         272      1      0      0     0      0         1    0     0    no  \n",
       "4         149      1      0      0     1      0         0    0     0    no  \n",
       "...       ...    ...    ...    ...   ...    ...       ...  ...   ...   ...  \n",
       "49995      27      1      1      0     0      0         0    0     0    no  \n",
       "49996     373      7      3      0     1      1         0    1     1    no  \n",
       "49997     193      1      0      0     0      0         1    0     0    no  \n",
       "49998     344      8      2      0     1      0         2    1     2    no  \n",
       "49999     185      5      1      0     1      0         0    1     2    no  \n",
       "\n",
       "[50000 rows x 19 columns]"
      ]
     },
     "execution_count": 4,
     "metadata": {},
     "output_type": "execute_result"
    }
   ],
   "source": [
    "data"
   ]
  },
  {
   "cell_type": "code",
   "execution_count": 5,
   "metadata": {
    "colab": {
     "base_uri": "https://localhost:8080/",
     "height": 112
    },
    "executionInfo": {
     "elapsed": 240,
     "status": "ok",
     "timestamp": 1676750197401,
     "user": {
      "displayName": "Olivia Natan",
      "userId": "05221168611265745496"
     },
     "user_tz": 480
    },
    "id": "HTiXI8xTWwfu",
    "outputId": "5ffae83b-2b8f-4bfe-c1ee-c0f8eaa1527b"
   },
   "outputs": [],
   "source": [
    "# transform the gender variable and buyer into a 0/1 dummy variable\n",
    "\n",
    "data['female']=(data['gender']==\"F\")*1\n",
    "data['buyer_dummy']=(data['buyer']==\"yes\")*1"
   ]
  },
  {
   "cell_type": "code",
   "execution_count": 6,
   "metadata": {
    "colab": {
     "base_uri": "https://localhost:8080/",
     "height": 143
    },
    "executionInfo": {
     "elapsed": 4,
     "status": "ok",
     "timestamp": 1676750198538,
     "user": {
      "displayName": "Olivia Natan",
      "userId": "05221168611265745496"
     },
     "user_tz": 480
    },
    "id": "kWG0JEltWwfu",
    "outputId": "f1c4de39-6216-4fbd-8669-071baca8164f"
   },
   "outputs": [
    {
     "name": "stdout",
     "output_type": "stream",
     "text": [
      "Optimization terminated successfully.\n",
      "         Current function value: 0.241222\n",
      "         Iterations 7\n"
     ]
    }
   ],
   "source": [
    "# logistic regression using \"buyer\" as the dependent variable and the following as predictor variables:\n",
    "result = util.logit(data['buyer_dummy'],data[ ['last','total_','female','child','youth','cook','do_it','refernce','art','geog'] ])"
   ]
  },
  {
   "cell_type": "code",
   "execution_count": 7,
   "metadata": {},
   "outputs": [],
   "source": [
    "#ask Python to create a new variable that contains the predicted probability of purchase for each consumer.\n",
    "result.predict()\n",
    "data['purch_prob']=result.predict()"
   ]
  },
  {
   "cell_type": "code",
   "execution_count": 8,
   "metadata": {},
   "outputs": [
    {
     "data": {
      "text/html": [
       "<table class=\"simpletable\">\n",
       "<caption>Mba263Logit Regression Results</caption>\n",
       "<tr>\n",
       "  <th>Dep. Variable:</th>      <td>buyer_dummy</td>   <th>  No. Observations:  </th>  <td> 50000</td> \n",
       "</tr>\n",
       "<tr>\n",
       "  <th>Model:</th>              <td>Mba263Logit</td>   <th>  Df Residuals:      </th>  <td> 49989</td> \n",
       "</tr>\n",
       "<tr>\n",
       "  <th>Method:</th>                 <td>MLE</td>       <th>  Df Model:          </th>  <td>    10</td> \n",
       "</tr>\n",
       "<tr>\n",
       "  <th>Date:</th>            <td>Tue, 04 Mar 2025</td> <th>  Pseudo R-squ.:     </th>  <td>0.2053</td> \n",
       "</tr>\n",
       "<tr>\n",
       "  <th>Time:</th>                <td>02:56:18</td>     <th>  Log-Likelihood:    </th> <td> -12061.</td>\n",
       "</tr>\n",
       "<tr>\n",
       "  <th>converged:</th>             <td>True</td>       <th>  LL-Null:           </th> <td> -15178.</td>\n",
       "</tr>\n",
       "<tr>\n",
       "  <th>Covariance Type:</th>     <td>nonrobust</td>    <th>  LLR p-value:       </th>  <td> 0.000</td> \n",
       "</tr>\n",
       "</table>\n",
       "<table class=\"simpletable\">\n",
       "<tr>\n",
       "      <td></td>        <th>coef</th>     <th>std err</th>      <th>z</th>      <th>P>|z|</th>  <th>[0.025</th>    <th>0.975]</th>  \n",
       "</tr>\n",
       "<tr>\n",
       "  <th>const</th>    <td>   -1.6001</td> <td>    0.052</td> <td>  -30.713</td> <td> 0.000</td> <td>   -1.702</td> <td>   -1.498</td>\n",
       "</tr>\n",
       "<tr>\n",
       "  <th>last</th>     <td>   -0.0947</td> <td>    0.003</td> <td>  -33.918</td> <td> 0.000</td> <td>   -0.100</td> <td>   -0.089</td>\n",
       "</tr>\n",
       "<tr>\n",
       "  <th>total_</th>   <td>    0.0011</td> <td>    0.000</td> <td>    5.630</td> <td> 0.000</td> <td>    0.001</td> <td>    0.002</td>\n",
       "</tr>\n",
       "<tr>\n",
       "  <th>female</th>   <td>   -0.7607</td> <td>    0.036</td> <td>  -21.272</td> <td> 0.000</td> <td>   -0.831</td> <td>   -0.691</td>\n",
       "</tr>\n",
       "<tr>\n",
       "  <th>child</th>    <td>   -0.1862</td> <td>    0.017</td> <td>  -10.775</td> <td> 0.000</td> <td>   -0.220</td> <td>   -0.152</td>\n",
       "</tr>\n",
       "<tr>\n",
       "  <th>youth</th>    <td>   -0.1130</td> <td>    0.026</td> <td>   -4.327</td> <td> 0.000</td> <td>   -0.164</td> <td>   -0.062</td>\n",
       "</tr>\n",
       "<tr>\n",
       "  <th>cook</th>     <td>   -0.2703</td> <td>    0.017</td> <td>  -15.782</td> <td> 0.000</td> <td>   -0.304</td> <td>   -0.237</td>\n",
       "</tr>\n",
       "<tr>\n",
       "  <th>do_it</th>    <td>   -0.5392</td> <td>    0.027</td> <td>  -19.994</td> <td> 0.000</td> <td>   -0.592</td> <td>   -0.486</td>\n",
       "</tr>\n",
       "<tr>\n",
       "  <th>refernce</th> <td>    0.2347</td> <td>    0.027</td> <td>    8.837</td> <td> 0.000</td> <td>    0.183</td> <td>    0.287</td>\n",
       "</tr>\n",
       "<tr>\n",
       "  <th>art</th>      <td>    1.1556</td> <td>    0.022</td> <td>   52.185</td> <td> 0.000</td> <td>    1.112</td> <td>    1.199</td>\n",
       "</tr>\n",
       "<tr>\n",
       "  <th>geog</th>     <td>    0.5743</td> <td>    0.019</td> <td>   30.823</td> <td> 0.000</td> <td>    0.538</td> <td>    0.611</td>\n",
       "</tr>\n",
       "</table>"
      ],
      "text/plain": [
       "<class 'statsmodels.iolib.summary.Summary'>\n",
       "\"\"\"\n",
       "                        Mba263Logit Regression Results                        \n",
       "==============================================================================\n",
       "Dep. Variable:            buyer_dummy   No. Observations:                50000\n",
       "Model:                    Mba263Logit   Df Residuals:                    49989\n",
       "Method:                           MLE   Df Model:                           10\n",
       "Date:                Tue, 04 Mar 2025   Pseudo R-squ.:                  0.2053\n",
       "Time:                        02:56:18   Log-Likelihood:                -12061.\n",
       "converged:                       True   LL-Null:                       -15178.\n",
       "Covariance Type:            nonrobust   LLR p-value:                     0.000\n",
       "==============================================================================\n",
       "                 coef    std err          z      P>|z|      [0.025      0.975]\n",
       "------------------------------------------------------------------------------\n",
       "const         -1.6001      0.052    -30.713      0.000      -1.702      -1.498\n",
       "last          -0.0947      0.003    -33.918      0.000      -0.100      -0.089\n",
       "total_         0.0011      0.000      5.630      0.000       0.001       0.002\n",
       "female        -0.7607      0.036    -21.272      0.000      -0.831      -0.691\n",
       "child         -0.1862      0.017    -10.775      0.000      -0.220      -0.152\n",
       "youth         -0.1130      0.026     -4.327      0.000      -0.164      -0.062\n",
       "cook          -0.2703      0.017    -15.782      0.000      -0.304      -0.237\n",
       "do_it         -0.5392      0.027    -19.994      0.000      -0.592      -0.486\n",
       "refernce       0.2347      0.027      8.837      0.000       0.183       0.287\n",
       "art            1.1556      0.022     52.185      0.000       1.112       1.199\n",
       "geog           0.5743      0.019     30.823      0.000       0.538       0.611\n",
       "==============================================================================\n",
       "\"\"\""
      ]
     },
     "execution_count": 8,
     "metadata": {},
     "output_type": "execute_result"
    }
   ],
   "source": [
    "result.summary()"
   ]
  },
  {
   "cell_type": "markdown",
   "metadata": {
    "id": "PdRRyPMSWwfv"
   },
   "source": [
    "<b> Part II: Decile Analysis of Logistic Regression Results</b>"
   ]
  },
  {
   "cell_type": "code",
   "execution_count": 9,
   "metadata": {},
   "outputs": [],
   "source": [
    "data['purch_prob_dec'] = util.ntile(data['purch_prob'],10)\n",
    "data['purch_prob_dec'] = 9 - data['purch_prob_dec']"
   ]
  },
  {
   "cell_type": "code",
   "execution_count": 10,
   "metadata": {},
   "outputs": [
    {
     "data": {
      "text/html": [
       "<div>\n",
       "<style scoped>\n",
       "    .dataframe tbody tr th:only-of-type {\n",
       "        vertical-align: middle;\n",
       "    }\n",
       "\n",
       "    .dataframe tbody tr th {\n",
       "        vertical-align: top;\n",
       "    }\n",
       "\n",
       "    .dataframe thead tr th {\n",
       "        text-align: left;\n",
       "    }\n",
       "\n",
       "    .dataframe thead tr:last-of-type th {\n",
       "        text-align: right;\n",
       "    }\n",
       "</style>\n",
       "<table border=\"1\" class=\"dataframe\">\n",
       "  <thead>\n",
       "    <tr>\n",
       "      <th></th>\n",
       "      <th colspan=\"8\" halign=\"left\">buyer_dummy</th>\n",
       "    </tr>\n",
       "    <tr>\n",
       "      <th></th>\n",
       "      <th>count</th>\n",
       "      <th>mean</th>\n",
       "      <th>std</th>\n",
       "      <th>min</th>\n",
       "      <th>25%</th>\n",
       "      <th>50%</th>\n",
       "      <th>75%</th>\n",
       "      <th>max</th>\n",
       "    </tr>\n",
       "    <tr>\n",
       "      <th>purch_prob_dec</th>\n",
       "      <th></th>\n",
       "      <th></th>\n",
       "      <th></th>\n",
       "      <th></th>\n",
       "      <th></th>\n",
       "      <th></th>\n",
       "      <th></th>\n",
       "      <th></th>\n",
       "    </tr>\n",
       "  </thead>\n",
       "  <tbody>\n",
       "    <tr>\n",
       "      <th>0</th>\n",
       "      <td>5000.0</td>\n",
       "      <td>0.387000</td>\n",
       "      <td>0.487112</td>\n",
       "      <td>0.0</td>\n",
       "      <td>0.0</td>\n",
       "      <td>0.0</td>\n",
       "      <td>1.0</td>\n",
       "      <td>1.0</td>\n",
       "    </tr>\n",
       "    <tr>\n",
       "      <th>1</th>\n",
       "      <td>5000.0</td>\n",
       "      <td>0.167200</td>\n",
       "      <td>0.373192</td>\n",
       "      <td>0.0</td>\n",
       "      <td>0.0</td>\n",
       "      <td>0.0</td>\n",
       "      <td>0.0</td>\n",
       "      <td>1.0</td>\n",
       "    </tr>\n",
       "    <tr>\n",
       "      <th>2</th>\n",
       "      <td>5000.0</td>\n",
       "      <td>0.102200</td>\n",
       "      <td>0.302941</td>\n",
       "      <td>0.0</td>\n",
       "      <td>0.0</td>\n",
       "      <td>0.0</td>\n",
       "      <td>0.0</td>\n",
       "      <td>1.0</td>\n",
       "    </tr>\n",
       "    <tr>\n",
       "      <th>3</th>\n",
       "      <td>5000.0</td>\n",
       "      <td>0.073600</td>\n",
       "      <td>0.261145</td>\n",
       "      <td>0.0</td>\n",
       "      <td>0.0</td>\n",
       "      <td>0.0</td>\n",
       "      <td>0.0</td>\n",
       "      <td>1.0</td>\n",
       "    </tr>\n",
       "    <tr>\n",
       "      <th>4</th>\n",
       "      <td>5000.0</td>\n",
       "      <td>0.056800</td>\n",
       "      <td>0.231483</td>\n",
       "      <td>0.0</td>\n",
       "      <td>0.0</td>\n",
       "      <td>0.0</td>\n",
       "      <td>0.0</td>\n",
       "      <td>1.0</td>\n",
       "    </tr>\n",
       "    <tr>\n",
       "      <th>5</th>\n",
       "      <td>5000.0</td>\n",
       "      <td>0.039200</td>\n",
       "      <td>0.194090</td>\n",
       "      <td>0.0</td>\n",
       "      <td>0.0</td>\n",
       "      <td>0.0</td>\n",
       "      <td>0.0</td>\n",
       "      <td>1.0</td>\n",
       "    </tr>\n",
       "    <tr>\n",
       "      <th>6</th>\n",
       "      <td>4998.0</td>\n",
       "      <td>0.027811</td>\n",
       "      <td>0.164448</td>\n",
       "      <td>0.0</td>\n",
       "      <td>0.0</td>\n",
       "      <td>0.0</td>\n",
       "      <td>0.0</td>\n",
       "      <td>1.0</td>\n",
       "    </tr>\n",
       "    <tr>\n",
       "      <th>7</th>\n",
       "      <td>5002.0</td>\n",
       "      <td>0.024190</td>\n",
       "      <td>0.153655</td>\n",
       "      <td>0.0</td>\n",
       "      <td>0.0</td>\n",
       "      <td>0.0</td>\n",
       "      <td>0.0</td>\n",
       "      <td>1.0</td>\n",
       "    </tr>\n",
       "    <tr>\n",
       "      <th>8</th>\n",
       "      <td>5000.0</td>\n",
       "      <td>0.018000</td>\n",
       "      <td>0.132964</td>\n",
       "      <td>0.0</td>\n",
       "      <td>0.0</td>\n",
       "      <td>0.0</td>\n",
       "      <td>0.0</td>\n",
       "      <td>1.0</td>\n",
       "    </tr>\n",
       "    <tr>\n",
       "      <th>9</th>\n",
       "      <td>5000.0</td>\n",
       "      <td>0.008400</td>\n",
       "      <td>0.091275</td>\n",
       "      <td>0.0</td>\n",
       "      <td>0.0</td>\n",
       "      <td>0.0</td>\n",
       "      <td>0.0</td>\n",
       "      <td>1.0</td>\n",
       "    </tr>\n",
       "  </tbody>\n",
       "</table>\n",
       "</div>"
      ],
      "text/plain": [
       "               buyer_dummy                                             \n",
       "                     count      mean       std  min  25%  50%  75%  max\n",
       "purch_prob_dec                                                         \n",
       "0                   5000.0  0.387000  0.487112  0.0  0.0  0.0  1.0  1.0\n",
       "1                   5000.0  0.167200  0.373192  0.0  0.0  0.0  0.0  1.0\n",
       "2                   5000.0  0.102200  0.302941  0.0  0.0  0.0  0.0  1.0\n",
       "3                   5000.0  0.073600  0.261145  0.0  0.0  0.0  0.0  1.0\n",
       "4                   5000.0  0.056800  0.231483  0.0  0.0  0.0  0.0  1.0\n",
       "5                   5000.0  0.039200  0.194090  0.0  0.0  0.0  0.0  1.0\n",
       "6                   4998.0  0.027811  0.164448  0.0  0.0  0.0  0.0  1.0\n",
       "7                   5002.0  0.024190  0.153655  0.0  0.0  0.0  0.0  1.0\n",
       "8                   5000.0  0.018000  0.132964  0.0  0.0  0.0  0.0  1.0\n",
       "9                   5000.0  0.008400  0.091275  0.0  0.0  0.0  0.0  1.0"
      ]
     },
     "execution_count": 10,
     "metadata": {},
     "output_type": "execute_result"
    }
   ],
   "source": [
    "data[ ['buyer_dummy','purch_prob_dec'] ].groupby('purch_prob_dec').describe()"
   ]
  },
  {
   "cell_type": "code",
   "execution_count": 11,
   "metadata": {},
   "outputs": [
    {
     "data": {
      "text/plain": [
       "<AxesSubplot:xlabel='purch_prob_dec'>"
      ]
     },
     "execution_count": 11,
     "metadata": {},
     "output_type": "execute_result"
    },
    {
     "data": {
      "image/png": "[encoded data removed]",
      "text/plain": [
       "<Figure size 432x288 with 1 Axes>"
      ]
     },
     "metadata": {
      "needs_background": "light"
     },
     "output_type": "display_data"
    }
   ],
   "source": [
    "data[['buyer_dummy','purch_prob_dec']].groupby('purch_prob_dec').mean().plot(kind='bar')"
   ]
  },
  {
   "cell_type": "code",
   "execution_count": 12,
   "metadata": {},
   "outputs": [
    {
     "name": "stdout",
     "output_type": "stream",
     "text": [
      "                total_customers  total_buyers  response_rate\n",
      "purch_prob_dec                                              \n",
      "0                          5000          1935       0.387000\n",
      "1                          5000           836       0.167200\n",
      "2                          5000           511       0.102200\n",
      "3                          5000           368       0.073600\n",
      "4                          5000           284       0.056800\n",
      "5                          5000           196       0.039200\n",
      "6                          4998           139       0.027811\n",
      "7                          5002           121       0.024190\n",
      "8                          5000            90       0.018000\n",
      "9                          5000            42       0.008400\n"
     ]
    }
   ],
   "source": [
    "decile_report = data.groupby(\"purch_prob_dec\").agg(\n",
    "    total_customers=(\"buyer_dummy\", \"count\"),\n",
    "    total_buyers=(\"buyer_dummy\", \"sum\"),\n",
    "    response_rate=(\"buyer_dummy\", \"mean\")\n",
    ")\n",
    "print (decile_report)"
   ]
  },
  {
   "cell_type": "code",
   "execution_count": 13,
   "metadata": {},
   "outputs": [
    {
     "name": "stdout",
     "output_type": "stream",
     "text": [
      "                mean_total_spent  mean_months_since_last_purchase  \\\n",
      "purch_prob_dec                                                      \n",
      "0                     257.352600                         7.194400   \n",
      "1                     224.869200                         7.958000   \n",
      "2                     214.228400                         8.618800   \n",
      "3                     207.643000                         8.782800   \n",
      "4                     199.111800                         9.573200   \n",
      "5                     199.130200                        10.937600   \n",
      "6                     191.297319                        12.372149   \n",
      "7                     191.598161                        14.417833   \n",
      "8                     193.610800                        17.857600   \n",
      "9                     204.341600                        25.868400   \n",
      "\n",
      "                mean_child_books  mean_youth_books  mean_cookbooks  \\\n",
      "purch_prob_dec                                                       \n",
      "0                       1.064800          0.513800        1.066800   \n",
      "1                       0.836400          0.392800        0.848200   \n",
      "2                       0.791000          0.365400        0.796000   \n",
      "3                       0.752600          0.362600        0.796600   \n",
      "4                       0.758000          0.333800        0.820800   \n",
      "5                       0.748000          0.364800        0.864800   \n",
      "6                       0.761104          0.348139        0.836134   \n",
      "7                       0.804678          0.360256        0.909036   \n",
      "8                       0.960600          0.405200        1.118200   \n",
      "9                       1.067400          0.463000        1.309400   \n",
      "\n",
      "                mean_do_it_books  mean_reference_books  mean_art_books  \\\n",
      "purch_prob_dec                                                           \n",
      "0                       0.471400              0.562800        1.500600   \n",
      "1                       0.393400              0.404600        0.753000   \n",
      "2                       0.369800              0.383200        0.480200   \n",
      "3                       0.340400              0.308200        0.302400   \n",
      "4                       0.369800              0.272400        0.216800   \n",
      "5                       0.394200              0.258800        0.163400   \n",
      "6                       0.420968              0.227491        0.132053   \n",
      "7                       0.447821              0.204918        0.113954   \n",
      "8                       0.650600              0.252400        0.127600   \n",
      "9                       0.772200              0.247600        0.069200   \n",
      "\n",
      "                mean_geography_books  \n",
      "purch_prob_dec                        \n",
      "0                           1.330800  \n",
      "1                           0.890800  \n",
      "2                           0.701000  \n",
      "3                           0.540400  \n",
      "4                           0.463800  \n",
      "5                           0.386200  \n",
      "6                           0.294718  \n",
      "7                           0.254298  \n",
      "8                           0.316000  \n",
      "9                           0.291600  \n"
     ]
    }
   ],
   "source": [
    "summary_report = data.groupby(\"purch_prob_dec\").agg(\n",
    "    mean_total_spent=(\"total_\", \"mean\"),\n",
    "    mean_months_since_last_purchase=(\"last\", \"mean\"),\n",
    "    mean_child_books=(\"child\", \"mean\"),\n",
    "    mean_youth_books=(\"youth\", \"mean\"),\n",
    "    mean_cookbooks=(\"cook\", \"mean\"),\n",
    "    mean_do_it_books=(\"do_it\", \"mean\"),\n",
    "    mean_reference_books=(\"refernce\", \"mean\"),\n",
    "    mean_art_books=(\"art\", \"mean\"),\n",
    "    mean_geography_books=(\"geog\", \"mean\")\n",
    ")\n",
    "print (summary_report)"
   ]
  },
  {
   "cell_type": "markdown",
   "metadata": {},
   "source": [
    "<b> Part III: Lifts and Gains </b> "
   ]
  },
  {
   "cell_type": "code",
   "execution_count": 14,
   "metadata": {},
   "outputs": [
    {
     "data": {
      "text/plain": [
       "array([427.90800531, 306.39097744, 241.92835029, 201.79124281,\n",
       "       173.99380805, 152.21878225, 134.87217909, 121.35117205,\n",
       "       110.07911937, 100.        ])"
      ]
     },
     "execution_count": 14,
     "metadata": {},
     "output_type": "execute_result"
    }
   ],
   "source": [
    "util.lift(data['buyer_dummy'],data['purch_prob'])"
   ]
  },
  {
   "cell_type": "code",
   "execution_count": 15,
   "metadata": {},
   "outputs": [
    {
     "data": {
      "text/plain": [
       "array([0.        , 0.42790801, 0.61278195, 0.72578505, 0.80716497,\n",
       "       0.86996904, 0.91331269, 0.9440513 , 0.97080938, 0.99071207,\n",
       "       1.        ])"
      ]
     },
     "execution_count": 15,
     "metadata": {},
     "output_type": "execute_result"
    }
   ],
   "source": [
    "util.gain(data['buyer_dummy'],data['purch_prob'])"
   ]
  },
  {
   "cell_type": "code",
   "execution_count": 16,
   "metadata": {},
   "outputs": [
    {
     "data": {
      "text/plain": [
       "[<matplotlib.lines.Line2D at 0x7f6f8cc85af0>]"
      ]
     },
     "execution_count": 16,
     "metadata": {},
     "output_type": "execute_result"
    },
    {
     "data": {
      "image/png": "[encoded data removed]",
      "text/plain": [
       "<Figure size 432x288 with 1 Axes>"
      ]
     },
     "metadata": {
      "needs_background": "light"
     },
     "output_type": "display_data"
    }
   ],
   "source": [
    "plt.plot(util.lift(data['buyer_dummy'],data['purch_prob']))"
   ]
  },
  {
   "cell_type": "code",
   "execution_count": 17,
   "metadata": {},
   "outputs": [],
   "source": [
    "data['random_group'] = np.random.randint(1, 11, data.shape[0])"
   ]
  },
  {
   "cell_type": "code",
   "execution_count": 18,
   "metadata": {},
   "outputs": [
    {
     "data": {
      "text/plain": [
       "[<matplotlib.lines.Line2D at 0x7f6f8cbf85b0>]"
      ]
     },
     "execution_count": 18,
     "metadata": {},
     "output_type": "execute_result"
    },
    {
     "data": {
      "image/png": "[encoded data removed]",
      "text/plain": [
       "<Figure size 432x288 with 1 Axes>"
      ]
     },
     "metadata": {
      "needs_background": "light"
     },
     "output_type": "display_data"
    }
   ],
   "source": [
    "plt.plot(util.gain(data['buyer_dummy'],data['purch_prob']))\n",
    "plt.plot(util.gain(data['buyer_dummy'],data['random_group']),color='grey')"
   ]
  },
  {
   "cell_type": "markdown",
   "metadata": {},
   "source": [
    "<b> Part IV: Profitability Analysis </b> "
   ]
  },
  {
   "cell_type": "code",
   "execution_count": 19,
   "metadata": {},
   "outputs": [
    {
     "name": "stdout",
     "output_type": "stream",
     "text": [
      "0.08333333333333333\n"
     ]
    }
   ],
   "source": [
    "#break even response rate\n",
    "unit_profit = 18-9-3\n",
    "mail_price = 0.5\n",
    "\n",
    "r_breakeven = mail_price/unit_profit\n",
    "print(r_breakeven)"
   ]
  },
  {
   "cell_type": "code",
   "execution_count": 20,
   "metadata": {},
   "outputs": [],
   "source": [
    "data['target'] = (data['purch_prob'] >= r_breakeven) * 1"
   ]
  },
  {
   "cell_type": "code",
   "execution_count": 21,
   "metadata": {},
   "outputs": [
    {
     "data": {
      "text/plain": [
       "15560"
      ]
     },
     "execution_count": 21,
     "metadata": {},
     "output_type": "execute_result"
    }
   ],
   "source": [
    "#expected number of customers\n",
    "data_target = data[data['target']==1]\n",
    "len(data_target)"
   ]
  },
  {
   "cell_type": "code",
   "execution_count": 22,
   "metadata": {},
   "outputs": [
    {
     "data": {
      "text/html": [
       "<div>\n",
       "<style scoped>\n",
       "    .dataframe tbody tr th:only-of-type {\n",
       "        vertical-align: middle;\n",
       "    }\n",
       "\n",
       "    .dataframe tbody tr th {\n",
       "        vertical-align: top;\n",
       "    }\n",
       "\n",
       "    .dataframe thead th {\n",
       "        text-align: right;\n",
       "    }\n",
       "</style>\n",
       "<table border=\"1\" class=\"dataframe\">\n",
       "  <thead>\n",
       "    <tr style=\"text-align: right;\">\n",
       "      <th></th>\n",
       "      <th>Name</th>\n",
       "      <th>Count</th>\n",
       "      <th>Frequency</th>\n",
       "    </tr>\n",
       "  </thead>\n",
       "  <tbody>\n",
       "    <tr>\n",
       "      <th>0</th>\n",
       "      <td>0</td>\n",
       "      <td>12237</td>\n",
       "      <td>0.78644</td>\n",
       "    </tr>\n",
       "    <tr>\n",
       "      <th>1</th>\n",
       "      <td>1</td>\n",
       "      <td>3323</td>\n",
       "      <td>0.21356</td>\n",
       "    </tr>\n",
       "  </tbody>\n",
       "</table>\n",
       "</div>"
      ],
      "text/plain": [
       "   Name  Count  Frequency\n",
       "0     0  12237    0.78644\n",
       "1     1   3323    0.21356"
      ]
     },
     "execution_count": 22,
     "metadata": {},
     "output_type": "execute_result"
    }
   ],
   "source": [
    "util.tabulate(data_target['buyer_dummy'])"
   ]
  },
  {
   "cell_type": "code",
   "execution_count": 23,
   "metadata": {},
   "outputs": [
    {
     "data": {
      "text/plain": [
       "3323"
      ]
     },
     "execution_count": 23,
     "metadata": {},
     "output_type": "execute_result"
    }
   ],
   "source": [
    "#expected number of buyers\n",
    "buyer_target = data[(data['target'] == 1) & (data['buyer_dummy'] == 1)]\n",
    "len(buyer_target)"
   ]
  },
  {
   "cell_type": "code",
   "execution_count": 24,
   "metadata": {
    "colab": {
     "base_uri": "https://localhost:8080/",
     "height": 296
    },
    "executionInfo": {
     "elapsed": 449,
     "status": "ok",
     "timestamp": 1676750199926,
     "user": {
      "displayName": "Olivia Natan",
      "userId": "05221168611265745496"
     },
     "user_tz": 480
    },
    "id": "D0QG9IavWwfv",
    "outputId": "7e674f64-5fc2-47fe-e816-f4b079b24a81"
   },
   "outputs": [
    {
     "name": "stdout",
     "output_type": "stream",
     "text": [
      "        total_customers  expected_buyers  expected_response_rate\n",
      "target                                                          \n",
      "0                 34440             1199                0.034814\n",
      "1                 15560             3323                0.213560\n"
     ]
    }
   ],
   "source": [
    "target_report = data.groupby('target').agg(\n",
    "    total_customers=('buyer_dummy', 'count'),\n",
    "    expected_buyers=('buyer_dummy', 'sum'),\n",
    "    expected_response_rate=('buyer_dummy', 'mean')\n",
    ")\n",
    "print (target_report)"
   ]
  },
  {
   "cell_type": "code",
   "execution_count": 25,
   "metadata": {},
   "outputs": [
    {
     "name": "stdout",
     "output_type": "stream",
     "text": [
      "The expected profit is $ 12158.0\n"
     ]
    }
   ],
   "source": [
    "# calculate gross profit\n",
    "remain_cus = 500000\n",
    "\n",
    "mail_rate = len(data_target)/ remain_cus\n",
    "res_rate = len(buyer_target)/ len(data_target)\n",
    "\n",
    "profit = remain_cus * mail_rate * res_rate * unit_profit - remain_cus * mail_rate * mail_price\n",
    "print (\"The expected profit is $\", round (profit,2))"
   ]
  },
  {
   "cell_type": "code",
   "execution_count": 26,
   "metadata": {},
   "outputs": [
    {
     "name": "stdout",
     "output_type": "stream",
     "text": [
      "The expected gross profit margin is 20.33 %\n"
     ]
    }
   ],
   "source": [
    "# calculate gross profit as a percentage of gross sales\n",
    "unit_rev = 18\n",
    "margin = profit/(remain_cus * mail_rate * res_rate * unit_rev)\n",
    "print (\"The expected gross profit margin is\", round(margin*100, 2),\"%\")"
   ]
  },
  {
   "cell_type": "code",
   "execution_count": 27,
   "metadata": {},
   "outputs": [
    {
     "name": "stdout",
     "output_type": "stream",
     "text": [
      "The expected gross profit margin is 156.27 %\n"
     ]
    }
   ],
   "source": [
    "# calculate expected return on marketing expenditures \n",
    "ROI = profit/(remain_cus * mail_rate * mail_price)\n",
    "print (\"The expected gross profit margin is\", round(ROI * 100, 2),\"%\")"
   ]
  },
  {
   "cell_type": "code",
   "execution_count": null,
   "metadata": {},
   "outputs": [],
   "source": []
  }
 ],
 "metadata": {
  "colab": {
   "authorship_tag": "ABX9TyPT827VU8lY0vxry9c6fzag",
   "provenance": []
  },
  "kernelspec": {
   "display_name": "Python 3 (ipykernel)",
   "language": "python",
   "name": "python3"
  },
  "language_info": {
   "codemirror_mode": {
    "name": "ipython",
    "version": 3
   },
   "file_extension": ".py",
   "mimetype": "text/x-python",
   "name": "python",
   "nbconvert_exporter": "python",
   "pygments_lexer": "ipython3",
   "version": "3.9.7"
  }
 },
 "nbformat": 4,
 "nbformat_minor": 1
}
