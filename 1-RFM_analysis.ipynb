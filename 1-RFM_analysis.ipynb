{
 "cells": [
  {
   "cell_type": "markdown",
   "metadata": {},
   "source": [
    "# RFM: Recency, Frequency, Monetary Analysis\n"
   ]
  },
  {
   "cell_type": "code",
   "execution_count": 1,
   "metadata": {},
   "outputs": [],
   "source": [
    "#import libraray needed\n",
    "import utility as util\n",
    "import pandas as pd"
   ]
  },
  {
   "cell_type": "code",
   "execution_count": 2,
   "metadata": {},
   "outputs": [],
   "source": [
    "data = pd.read_csv('data_rfm.csv')"
   ]
  },
  {
   "cell_type": "markdown",
   "metadata": {},
   "source": [
    "<b> 1. What percent of customers responded (i.e. bought anything) from this catalog? </b> "
   ]
  },
  {
   "cell_type": "code",
   "execution_count": 3,
   "metadata": {},
   "outputs": [
    {
     "data": {
      "text/html": [
       "<div>\n",
       "<style scoped>\n",
       "    .dataframe tbody tr th:only-of-type {\n",
       "        vertical-align: middle;\n",
       "    }\n",
       "\n",
       "    .dataframe tbody tr th {\n",
       "        vertical-align: top;\n",
       "    }\n",
       "\n",
       "    .dataframe thead th {\n",
       "        text-align: right;\n",
       "    }\n",
       "</style>\n",
       "<table border=\"1\" class=\"dataframe\">\n",
       "  <thead>\n",
       "    <tr style=\"text-align: right;\">\n",
       "      <th></th>\n",
       "      <th>Name</th>\n",
       "      <th>Count</th>\n",
       "      <th>Frequency</th>\n",
       "    </tr>\n",
       "  </thead>\n",
       "  <tbody>\n",
       "    <tr>\n",
       "      <th>0</th>\n",
       "      <td>no</td>\n",
       "      <td>94180</td>\n",
       "      <td>0.975443</td>\n",
       "    </tr>\n",
       "    <tr>\n",
       "      <th>1</th>\n",
       "      <td>yes</td>\n",
       "      <td>2371</td>\n",
       "      <td>0.024557</td>\n",
       "    </tr>\n",
       "  </tbody>\n",
       "</table>\n",
       "</div>"
      ],
      "text/plain": [
       "  Name  Count  Frequency\n",
       "0   no  94180   0.975443\n",
       "1  yes   2371   0.024557"
      ]
     },
     "execution_count": 3,
     "metadata": {},
     "output_type": "execute_result"
    }
   ],
   "source": [
    "util.tabulate(data['buyer'])"
   ]
  },
  {
   "cell_type": "markdown",
   "metadata": {},
   "source": [
    "<b> 2. Of those who bought, what was the average dollars ordered from this catalog?</b>\n",
    "\n",
    "This code:\n",
    " - Selects R, F and M Columns\n",
    "\n",
    " - Groups by <code>buyer</code>\n",
    "\n",
    " - Take means of those columns"
   ]
  },
  {
   "cell_type": "code",
   "execution_count": 4,
   "metadata": {},
   "outputs": [
    {
     "data": {
      "text/html": [
       "<div>\n",
       "<style scoped>\n",
       "    .dataframe tbody tr th:only-of-type {\n",
       "        vertical-align: middle;\n",
       "    }\n",
       "\n",
       "    .dataframe tbody tr th {\n",
       "        vertical-align: top;\n",
       "    }\n",
       "\n",
       "    .dataframe thead th {\n",
       "        text-align: right;\n",
       "    }\n",
       "</style>\n",
       "<table border=\"1\" class=\"dataframe\">\n",
       "  <thead>\n",
       "    <tr style=\"text-align: right;\">\n",
       "      <th></th>\n",
       "      <th>dollars</th>\n",
       "    </tr>\n",
       "    <tr>\n",
       "      <th>buyer</th>\n",
       "      <th></th>\n",
       "    </tr>\n",
       "  </thead>\n",
       "  <tbody>\n",
       "    <tr>\n",
       "      <th>no</th>\n",
       "      <td>0.000000</td>\n",
       "    </tr>\n",
       "    <tr>\n",
       "      <th>yes</th>\n",
       "      <td>104.242935</td>\n",
       "    </tr>\n",
       "  </tbody>\n",
       "</table>\n",
       "</div>"
      ],
      "text/plain": [
       "          dollars\n",
       "buyer            \n",
       "no       0.000000\n",
       "yes    104.242935"
      ]
     },
     "execution_count": 4,
     "metadata": {},
     "output_type": "execute_result"
    }
   ],
   "source": [
    "data[ ['dollars','buyer'] ].groupby('buyer').mean()"
   ]
  },
  {
   "cell_type": "code",
   "execution_count": 5,
   "metadata": {},
   "outputs": [
    {
     "data": {
      "text/plain": [
       "(             last   numords    totdol\n",
       " last     1.000000 -0.206206 -0.187829\n",
       " numords -0.206206  1.000000  0.842448\n",
       " totdol  -0.187829  0.842448  1.000000,\n",
       "          last  numords  totdol\n",
       " last      0.0      0.0     0.0\n",
       " numords   0.0      0.0     0.0\n",
       " totdol    0.0      0.0     0.0)"
      ]
     },
     "execution_count": 5,
     "metadata": {},
     "output_type": "execute_result"
    }
   ],
   "source": [
    "util.pwcorr(data[ ['last','numords','totdol'] ])"
   ]
  },
  {
   "cell_type": "markdown",
   "metadata": {},
   "source": [
    "<b> 3. Create decile variables for recency, frequency and monetary. (Hint: use ntile command from mba263 module) </b>"
   ]
  },
  {
   "cell_type": "code",
   "execution_count": 6,
   "metadata": {},
   "outputs": [],
   "source": [
    "ntile = 5\n",
    "data['rec_dec'] = util.ntile(data['last'],ntile)\n",
    "data['freq_dec'] = util.ntile(data['numords'],ntile)\n",
    "data['mv_dec'] = util.ntile(data['totdol'],ntile)\n",
    "\n",
    "data['freq_dec_r'] = (ntile -1) - data['freq_dec']\n",
    "data['mv_dec_r'] = (ntile -1) - data['mv_dec']"
   ]
  },
  {
   "cell_type": "markdown",
   "metadata": {},
   "source": [
    "<b> 4. Create a bar chart showing the response rate (i.e., the proportion of customers who bought something) to this catalog by recency decile.</b>"
   ]
  },
  {
   "cell_type": "code",
   "execution_count": 7,
   "metadata": {},
   "outputs": [
    {
     "data": {
      "text/plain": [
       "Text(0.5, 0, 'Monetary')"
      ]
     },
     "execution_count": 7,
     "metadata": {},
     "output_type": "execute_result"
    },
    {
     "data": {
      "image/png": "[encoded data removed]",
      "text/plain": [
       "<Figure size 432x288 with 1 Axes>"
      ]
     },
     "metadata": {
      "needs_background": "light"
     },
     "output_type": "display_data"
    },
    {
     "data": {
      "image/png": "[encoded data removed]",
      "text/plain": [
       "<Figure size 432x288 with 1 Axes>"
      ]
     },
     "metadata": {
      "needs_background": "light"
     },
     "output_type": "display_data"
    },
    {
     "data": {
      "image/png": "[encoded data removed]",
      "text/plain": [
       "<Figure size 432x288 with 1 Axes>"
      ]
     },
     "metadata": {
      "needs_background": "light"
     },
     "output_type": "display_data"
    }
   ],
   "source": [
    "data['buy_dummy']=pd.get_dummies(data['buyer'])['yes']\n",
    "\n",
    "data[ ['buy_dummy','rec_dec'] ].groupby('rec_dec').mean().plot(kind='bar').set_xlabel('Recency')\n",
    "data[ ['buy_dummy','freq_dec_r'] ].groupby('freq_dec_r').mean().plot(kind='bar').set_xlabel('Frequency')\n",
    "data[ ['buy_dummy','mv_dec_r'] ].groupby('mv_dec_r').mean().plot(kind='bar').set_xlabel('Monetary')\n"
   ]
  },
  {
   "cell_type": "markdown",
   "metadata": {},
   "source": [
    "<b> 7.\tUsing only those customers who placed an order from this catalog, create three bar charts showing the average dollars ordered from this catalog by recency, frequency and monetary deciles, respectively. (Hint: first create a data frame with those rows that ordered, and use groupby(...).mean().plot(...) on the restricted data) </b>"
   ]
  },
  {
   "cell_type": "code",
   "execution_count": 8,
   "metadata": {},
   "outputs": [],
   "source": [
    "# filter data by only those customers who placed an order from this catalog\n",
    "data_buy = data[data['buyer'] == 'yes']"
   ]
  },
  {
   "cell_type": "code",
   "execution_count": 9,
   "metadata": {},
   "outputs": [
    {
     "data": {
      "text/plain": [
       "Text(0.5, 0, 'Monetary')"
      ]
     },
     "execution_count": 9,
     "metadata": {},
     "output_type": "execute_result"
    },
    {
     "data": {
      "image/png": "[encoded data removed]",
      "text/plain": [
       "<Figure size 432x288 with 1 Axes>"
      ]
     },
     "metadata": {
      "needs_background": "light"
     },
     "output_type": "display_data"
    },
    {
     "data": {
      "image/png": "[encoded data removed]",
      "text/plain": [
       "<Figure size 432x288 with 1 Axes>"
      ]
     },
     "metadata": {
      "needs_background": "light"
     },
     "output_type": "display_data"
    },
    {
     "data": {
      "image/png": "[encoded data removed]",
      "text/plain": [
       "<Figure size 432x288 with 1 Axes>"
      ]
     },
     "metadata": {
      "needs_background": "light"
     },
     "output_type": "display_data"
    }
   ],
   "source": [
    "data_buy[ ['dollars','rec_dec'] ].groupby('rec_dec').mean().plot(kind='bar').set_xlabel('Recency')\n",
    "data_buy[ ['dollars','freq_dec_r'] ].groupby('freq_dec_r').mean().plot(kind='bar').set_xlabel('Frequency')\n",
    "data_buy[ ['dollars','mv_dec_r'] ].groupby('mv_dec_r').mean().plot(kind='bar').set_xlabel('Monetary')"
   ]
  },
  {
   "cell_type": "markdown",
   "metadata": {},
   "source": [
    "<b> 9 (a) the expected gross profit in dollars </b>"
   ]
  },
  {
   "cell_type": "code",
   "execution_count": 10,
   "metadata": {
    "scrolled": true
   },
   "outputs": [
    {
     "name": "stdout",
     "output_type": "stream",
     "text": [
      "513551.0\n"
     ]
    }
   ],
   "source": [
    "# calculate gross profit\n",
    "sample_cus = 96551\n",
    "total_cus = 1931020\n",
    "num_mail = total_cus - sample_cus\n",
    "margin = 0.5\n",
    "cost_mail = 1\n",
    "\n",
    "avg_rev = data['dollars'].mean()\n",
    "\n",
    "res_rate = (data['buyer'].value_counts()['yes'] / len(data['buyer']))\n",
    "\n",
    "profit = num_mail * avg_rev * margin - num_mail * cost_mail\n",
    "print (profit)"
   ]
  },
  {
   "cell_type": "markdown",
   "metadata": {},
   "source": [
    "<b> 9 (b) the expected gross profit as a % of expected gross sales </b>"
   ]
  },
  {
   "cell_type": "code",
   "execution_count": 11,
   "metadata": {},
   "outputs": [
    {
     "name": "stdout",
     "output_type": "stream",
     "text": [
      "0.1093583104062146\n"
     ]
    }
   ],
   "source": [
    "profit_per = profit / (num_mail * avg_rev)\n",
    "print (profit_per) "
   ]
  },
  {
   "cell_type": "markdown",
   "metadata": {},
   "source": [
    "<b> 9 (c) the expected return on market expenditure </b>"
   ]
  },
  {
   "cell_type": "code",
   "execution_count": 12,
   "metadata": {},
   "outputs": [
    {
     "name": "stdout",
     "output_type": "stream",
     "text": [
      "0.27994531387556837\n"
     ]
    }
   ],
   "source": [
    "ROI = profit / (num_mail * cost_mail) \n",
    "print (ROI)"
   ]
  },
  {
   "cell_type": "markdown",
   "metadata": {},
   "source": [
    "<b> 10.\tWhat is the breakeven response rate? </b>"
   ]
  },
  {
   "cell_type": "code",
   "execution_count": 13,
   "metadata": {},
   "outputs": [
    {
     "name": "stdout",
     "output_type": "stream",
     "text": [
      "0.019185952419485355\n"
     ]
    }
   ],
   "source": [
    "# calculate break-even response rate\n",
    "unit_rev = data[data['buyer'] == 'yes']['dollars'].mean()\n",
    "unit_profit = unit_rev * margin\n",
    "res_even = cost_mail / unit_profit\n",
    "print (res_even) "
   ]
  },
  {
   "cell_type": "markdown",
   "metadata": {},
   "source": [
    "<b> 11.\tDetermine which RFM segments (using the sequential n-tiles approach) have response rates exceeding the breakeven rate. </b>"
   ]
  },
  {
   "cell_type": "code",
   "execution_count": 14,
   "metadata": {},
   "outputs": [
    {
     "name": "stdout",
     "output_type": "stream",
     "text": [
      "rfm1\n",
      "111    0.087622\n",
      "112    0.077886\n",
      "113    0.065460\n",
      "114    0.065551\n",
      "115    0.060858\n",
      "         ...   \n",
      "513    0.021523\n",
      "514    0.030000\n",
      "515    0.019835\n",
      "524    0.027174\n",
      "533    0.022576\n",
      "Name: buy_dummy, Length: 75, dtype: float64\n"
     ]
    }
   ],
   "source": [
    "data_seg = data.groupby('rfm1')['buy_dummy'].mean()\n",
    "target_RFM = data_seg[data_seg > res_even]\n",
    "print (target_RFM)"
   ]
  },
  {
   "cell_type": "markdown",
   "metadata": {},
   "source": [
    "   <b> Determine the number of customers belonging to these profitable segments. </b>"
   ]
  },
  {
   "cell_type": "code",
   "execution_count": 16,
   "metadata": {},
   "outputs": [
    {
     "data": {
      "text/plain": [
       "52289"
      ]
     },
     "execution_count": 16,
     "metadata": {},
     "output_type": "execute_result"
    }
   ],
   "source": [
    "#Assign every customer a response from their RFM cell\n",
    "data['responserate_sq']=util.get_means(data['buy_dummy'],data['rfm1'])\n",
    "data['profitable_sq']=(data['responserate_sq']>res_even) *1\n",
    "customer_profitable = data[data['profitable_sq']==1]\n",
    "len(customer_profitable)"
   ]
  },
  {
   "cell_type": "markdown",
   "metadata": {},
   "source": [
    "   <b> Determine the number of buyers belonging to these profitable segments. </b>"
   ]
  },
  {
   "cell_type": "code",
   "execution_count": 17,
   "metadata": {},
   "outputs": [
    {
     "data": {
      "text/plain": [
       "1757"
      ]
     },
     "execution_count": 17,
     "metadata": {},
     "output_type": "execute_result"
    }
   ],
   "source": [
    "buyer_profitable = data[(data['profitable_sq'] == 1) & (data['buy_dummy'] == 1)]\n",
    "len(buyer_profitable)"
   ]
  },
  {
   "cell_type": "markdown",
   "metadata": {},
   "source": [
    "<b> 11 (a) the expected gross profit in dollars </b>"
   ]
  },
  {
   "cell_type": "code",
   "execution_count": 18,
   "metadata": {},
   "outputs": [
    {
     "name": "stdout",
     "output_type": "stream",
     "text": [
      "746479.95740194\n"
     ]
    }
   ],
   "source": [
    "# calculate gross profit\n",
    "mail_rate_rfm = len(customer_profitable)/ sample_cus\n",
    "res_rate_rfm = len(buyer_profitable)/ len(customer_profitable)\n",
    "\n",
    "profit_rfm = num_mail * mail_rate_rfm * res_rate_rfm * unit_profit - num_mail * mail_rate_rfm * cost_mail\n",
    "print (profit_rfm)"
   ]
  },
  {
   "cell_type": "markdown",
   "metadata": {},
   "source": [
    "<b> 11 (b) the expected gross profit as a % of expected gross sales </b>"
   ]
  },
  {
   "cell_type": "code",
   "execution_count": 19,
   "metadata": {},
   "outputs": [
    {
     "name": "stdout",
     "output_type": "stream",
     "text": [
      "0.21450931529241044\n"
     ]
    }
   ],
   "source": [
    "profit_rfm_per = profit_rfm / (num_mail * mail_rate_rfm * res_rate_rfm * unit_rev)\n",
    "print (profit_rfm_per) "
   ]
  },
  {
   "cell_type": "markdown",
   "metadata": {},
   "source": [
    "<b> 11 (c) the expected return on market expenditure </b>"
   ]
  },
  {
   "cell_type": "code",
   "execution_count": 20,
   "metadata": {},
   "outputs": [
    {
     "name": "stdout",
     "output_type": "stream",
     "text": [
      "0.7513706288249616\n"
     ]
    }
   ],
   "source": [
    "ROI_rfm = profit_rfm / (num_mail * mail_rate_rfm * cost_mail) \n",
    "print (ROI_rfm)"
   ]
  },
  {
   "cell_type": "code",
   "execution_count": 21,
   "metadata": {},
   "outputs": [
    {
     "name": "stdout",
     "output_type": "stream",
     "text": [
      "0.7410375369042598\n"
     ]
    }
   ],
   "source": [
    "profit_capture =  (num_mail * mail_rate_rfm * res_rate_rfm)/(res_rate * num_mail)\n",
    "print (profit_capture)"
   ]
  },
  {
   "cell_type": "markdown",
   "metadata": {},
   "source": [
    " <b> 12. Examine the first 20 or so observations in the database. What do you notice about the RFM1 and RFM2 values? That is – do the two approaches generally yield the same RFM index for any given customer? What do you see as the pros and cons of the two approaches (from a statistical as well as logical perspective) and why? </b>"
   ]
  },
  {
   "cell_type": "code",
   "execution_count": 22,
   "metadata": {},
   "outputs": [
    {
     "data": {
      "text/html": [
       "<div>\n",
       "<style scoped>\n",
       "    .dataframe tbody tr th:only-of-type {\n",
       "        vertical-align: middle;\n",
       "    }\n",
       "\n",
       "    .dataframe tbody tr th {\n",
       "        vertical-align: top;\n",
       "    }\n",
       "\n",
       "    .dataframe thead th {\n",
       "        text-align: right;\n",
       "    }\n",
       "</style>\n",
       "<table border=\"1\" class=\"dataframe\">\n",
       "  <thead>\n",
       "    <tr style=\"text-align: right;\">\n",
       "      <th></th>\n",
       "      <th>numords</th>\n",
       "      <th>totdol</th>\n",
       "      <th>last</th>\n",
       "      <th>buyer</th>\n",
       "      <th>dollars</th>\n",
       "      <th>rfm1</th>\n",
       "      <th>rfm2</th>\n",
       "      <th>rec_dec</th>\n",
       "      <th>freq_dec</th>\n",
       "      <th>mv_dec</th>\n",
       "      <th>freq_dec_r</th>\n",
       "      <th>mv_dec_r</th>\n",
       "      <th>buy_dummy</th>\n",
       "      <th>responserate_sq</th>\n",
       "      <th>profitable_sq</th>\n",
       "      <th>responserate_iq</th>\n",
       "    </tr>\n",
       "  </thead>\n",
       "  <tbody>\n",
       "    <tr>\n",
       "      <th>0</th>\n",
       "      <td>7</td>\n",
       "      <td>493</td>\n",
       "      <td>207</td>\n",
       "      <td>no</td>\n",
       "      <td>0</td>\n",
       "      <td>222</td>\n",
       "      <td>211</td>\n",
       "      <td>1</td>\n",
       "      <td>4</td>\n",
       "      <td>4</td>\n",
       "      <td>0</td>\n",
       "      <td>0</td>\n",
       "      <td>0</td>\n",
       "      <td>0.029308</td>\n",
       "      <td>1</td>\n",
       "      <td>0.049986</td>\n",
       "    </tr>\n",
       "    <tr>\n",
       "      <th>1</th>\n",
       "      <td>4</td>\n",
       "      <td>423</td>\n",
       "      <td>625</td>\n",
       "      <td>no</td>\n",
       "      <td>0</td>\n",
       "      <td>421</td>\n",
       "      <td>422</td>\n",
       "      <td>3</td>\n",
       "      <td>3</td>\n",
       "      <td>3</td>\n",
       "      <td>1</td>\n",
       "      <td>1</td>\n",
       "      <td>0</td>\n",
       "      <td>0.028832</td>\n",
       "      <td>1</td>\n",
       "      <td>0.025612</td>\n",
       "    </tr>\n",
       "    <tr>\n",
       "      <th>2</th>\n",
       "      <td>4</td>\n",
       "      <td>246</td>\n",
       "      <td>28</td>\n",
       "      <td>no</td>\n",
       "      <td>0</td>\n",
       "      <td>134</td>\n",
       "      <td>122</td>\n",
       "      <td>0</td>\n",
       "      <td>3</td>\n",
       "      <td>3</td>\n",
       "      <td>1</td>\n",
       "      <td>1</td>\n",
       "      <td>0</td>\n",
       "      <td>0.043630</td>\n",
       "      <td>1</td>\n",
       "      <td>0.045492</td>\n",
       "    </tr>\n",
       "    <tr>\n",
       "      <th>3</th>\n",
       "      <td>3</td>\n",
       "      <td>271</td>\n",
       "      <td>778</td>\n",
       "      <td>no</td>\n",
       "      <td>0</td>\n",
       "      <td>523</td>\n",
       "      <td>532</td>\n",
       "      <td>4</td>\n",
       "      <td>2</td>\n",
       "      <td>3</td>\n",
       "      <td>2</td>\n",
       "      <td>1</td>\n",
       "      <td>0</td>\n",
       "      <td>0.018349</td>\n",
       "      <td>0</td>\n",
       "      <td>0.018382</td>\n",
       "    </tr>\n",
       "    <tr>\n",
       "      <th>4</th>\n",
       "      <td>2</td>\n",
       "      <td>148</td>\n",
       "      <td>396</td>\n",
       "      <td>no</td>\n",
       "      <td>0</td>\n",
       "      <td>343</td>\n",
       "      <td>343</td>\n",
       "      <td>2</td>\n",
       "      <td>1</td>\n",
       "      <td>2</td>\n",
       "      <td>3</td>\n",
       "      <td>2</td>\n",
       "      <td>0</td>\n",
       "      <td>0.018158</td>\n",
       "      <td>0</td>\n",
       "      <td>0.020553</td>\n",
       "    </tr>\n",
       "    <tr>\n",
       "      <th>5</th>\n",
       "      <td>10</td>\n",
       "      <td>937</td>\n",
       "      <td>6</td>\n",
       "      <td>no</td>\n",
       "      <td>0</td>\n",
       "      <td>121</td>\n",
       "      <td>111</td>\n",
       "      <td>0</td>\n",
       "      <td>4</td>\n",
       "      <td>4</td>\n",
       "      <td>0</td>\n",
       "      <td>0</td>\n",
       "      <td>0</td>\n",
       "      <td>0.031250</td>\n",
       "      <td>1</td>\n",
       "      <td>0.061794</td>\n",
       "    </tr>\n",
       "    <tr>\n",
       "      <th>6</th>\n",
       "      <td>7</td>\n",
       "      <td>562</td>\n",
       "      <td>38</td>\n",
       "      <td>no</td>\n",
       "      <td>0</td>\n",
       "      <td>123</td>\n",
       "      <td>111</td>\n",
       "      <td>0</td>\n",
       "      <td>4</td>\n",
       "      <td>4</td>\n",
       "      <td>0</td>\n",
       "      <td>0</td>\n",
       "      <td>0</td>\n",
       "      <td>0.046802</td>\n",
       "      <td>1</td>\n",
       "      <td>0.061794</td>\n",
       "    </tr>\n",
       "    <tr>\n",
       "      <th>7</th>\n",
       "      <td>1</td>\n",
       "      <td>156</td>\n",
       "      <td>759</td>\n",
       "      <td>no</td>\n",
       "      <td>0</td>\n",
       "      <td>552</td>\n",
       "      <td>553</td>\n",
       "      <td>4</td>\n",
       "      <td>0</td>\n",
       "      <td>2</td>\n",
       "      <td>4</td>\n",
       "      <td>2</td>\n",
       "      <td>0</td>\n",
       "      <td>0.013973</td>\n",
       "      <td>0</td>\n",
       "      <td>0.009832</td>\n",
       "    </tr>\n",
       "    <tr>\n",
       "      <th>8</th>\n",
       "      <td>1</td>\n",
       "      <td>59</td>\n",
       "      <td>604</td>\n",
       "      <td>no</td>\n",
       "      <td>0</td>\n",
       "      <td>454</td>\n",
       "      <td>455</td>\n",
       "      <td>3</td>\n",
       "      <td>0</td>\n",
       "      <td>0</td>\n",
       "      <td>4</td>\n",
       "      <td>4</td>\n",
       "      <td>0</td>\n",
       "      <td>0.010039</td>\n",
       "      <td>0</td>\n",
       "      <td>0.011859</td>\n",
       "    </tr>\n",
       "    <tr>\n",
       "      <th>9</th>\n",
       "      <td>1</td>\n",
       "      <td>34</td>\n",
       "      <td>7</td>\n",
       "      <td>no</td>\n",
       "      <td>0</td>\n",
       "      <td>155</td>\n",
       "      <td>155</td>\n",
       "      <td>0</td>\n",
       "      <td>0</td>\n",
       "      <td>0</td>\n",
       "      <td>4</td>\n",
       "      <td>4</td>\n",
       "      <td>0</td>\n",
       "      <td>0.021968</td>\n",
       "      <td>1</td>\n",
       "      <td>0.028162</td>\n",
       "    </tr>\n",
       "    <tr>\n",
       "      <th>10</th>\n",
       "      <td>6</td>\n",
       "      <td>627</td>\n",
       "      <td>71</td>\n",
       "      <td>no</td>\n",
       "      <td>0</td>\n",
       "      <td>122</td>\n",
       "      <td>111</td>\n",
       "      <td>0</td>\n",
       "      <td>4</td>\n",
       "      <td>4</td>\n",
       "      <td>0</td>\n",
       "      <td>0</td>\n",
       "      <td>0</td>\n",
       "      <td>0.048137</td>\n",
       "      <td>1</td>\n",
       "      <td>0.061794</td>\n",
       "    </tr>\n",
       "    <tr>\n",
       "      <th>11</th>\n",
       "      <td>5</td>\n",
       "      <td>379</td>\n",
       "      <td>568</td>\n",
       "      <td>no</td>\n",
       "      <td>0</td>\n",
       "      <td>414</td>\n",
       "      <td>422</td>\n",
       "      <td>3</td>\n",
       "      <td>3</td>\n",
       "      <td>3</td>\n",
       "      <td>1</td>\n",
       "      <td>1</td>\n",
       "      <td>0</td>\n",
       "      <td>0.022400</td>\n",
       "      <td>1</td>\n",
       "      <td>0.025612</td>\n",
       "    </tr>\n",
       "    <tr>\n",
       "      <th>12</th>\n",
       "      <td>2</td>\n",
       "      <td>75</td>\n",
       "      <td>505</td>\n",
       "      <td>no</td>\n",
       "      <td>0</td>\n",
       "      <td>345</td>\n",
       "      <td>344</td>\n",
       "      <td>2</td>\n",
       "      <td>1</td>\n",
       "      <td>1</td>\n",
       "      <td>3</td>\n",
       "      <td>3</td>\n",
       "      <td>0</td>\n",
       "      <td>0.020910</td>\n",
       "      <td>1</td>\n",
       "      <td>0.020646</td>\n",
       "    </tr>\n",
       "    <tr>\n",
       "      <th>13</th>\n",
       "      <td>1</td>\n",
       "      <td>44</td>\n",
       "      <td>101</td>\n",
       "      <td>no</td>\n",
       "      <td>0</td>\n",
       "      <td>154</td>\n",
       "      <td>155</td>\n",
       "      <td>0</td>\n",
       "      <td>0</td>\n",
       "      <td>0</td>\n",
       "      <td>4</td>\n",
       "      <td>4</td>\n",
       "      <td>0</td>\n",
       "      <td>0.033613</td>\n",
       "      <td>1</td>\n",
       "      <td>0.028162</td>\n",
       "    </tr>\n",
       "    <tr>\n",
       "      <th>14</th>\n",
       "      <td>14</td>\n",
       "      <td>386</td>\n",
       "      <td>620</td>\n",
       "      <td>no</td>\n",
       "      <td>0</td>\n",
       "      <td>414</td>\n",
       "      <td>412</td>\n",
       "      <td>3</td>\n",
       "      <td>4</td>\n",
       "      <td>3</td>\n",
       "      <td>0</td>\n",
       "      <td>1</td>\n",
       "      <td>0</td>\n",
       "      <td>0.022400</td>\n",
       "      <td>1</td>\n",
       "      <td>0.020202</td>\n",
       "    </tr>\n",
       "    <tr>\n",
       "      <th>15</th>\n",
       "      <td>10</td>\n",
       "      <td>404</td>\n",
       "      <td>312</td>\n",
       "      <td>no</td>\n",
       "      <td>0</td>\n",
       "      <td>215</td>\n",
       "      <td>212</td>\n",
       "      <td>1</td>\n",
       "      <td>4</td>\n",
       "      <td>3</td>\n",
       "      <td>0</td>\n",
       "      <td>1</td>\n",
       "      <td>0</td>\n",
       "      <td>0.046828</td>\n",
       "      <td>1</td>\n",
       "      <td>0.031761</td>\n",
       "    </tr>\n",
       "    <tr>\n",
       "      <th>16</th>\n",
       "      <td>2</td>\n",
       "      <td>114</td>\n",
       "      <td>1094</td>\n",
       "      <td>no</td>\n",
       "      <td>0</td>\n",
       "      <td>534</td>\n",
       "      <td>544</td>\n",
       "      <td>4</td>\n",
       "      <td>1</td>\n",
       "      <td>1</td>\n",
       "      <td>3</td>\n",
       "      <td>3</td>\n",
       "      <td>0</td>\n",
       "      <td>0.017202</td>\n",
       "      <td>0</td>\n",
       "      <td>0.016323</td>\n",
       "    </tr>\n",
       "    <tr>\n",
       "      <th>17</th>\n",
       "      <td>11</td>\n",
       "      <td>756</td>\n",
       "      <td>22</td>\n",
       "      <td>no</td>\n",
       "      <td>0</td>\n",
       "      <td>114</td>\n",
       "      <td>111</td>\n",
       "      <td>0</td>\n",
       "      <td>4</td>\n",
       "      <td>4</td>\n",
       "      <td>0</td>\n",
       "      <td>0</td>\n",
       "      <td>0</td>\n",
       "      <td>0.065551</td>\n",
       "      <td>1</td>\n",
       "      <td>0.061794</td>\n",
       "    </tr>\n",
       "    <tr>\n",
       "      <th>18</th>\n",
       "      <td>1</td>\n",
       "      <td>104</td>\n",
       "      <td>366</td>\n",
       "      <td>no</td>\n",
       "      <td>0</td>\n",
       "      <td>352</td>\n",
       "      <td>354</td>\n",
       "      <td>2</td>\n",
       "      <td>0</td>\n",
       "      <td>1</td>\n",
       "      <td>4</td>\n",
       "      <td>3</td>\n",
       "      <td>0</td>\n",
       "      <td>0.009740</td>\n",
       "      <td>0</td>\n",
       "      <td>0.012252</td>\n",
       "    </tr>\n",
       "    <tr>\n",
       "      <th>19</th>\n",
       "      <td>22</td>\n",
       "      <td>1282</td>\n",
       "      <td>15</td>\n",
       "      <td>no</td>\n",
       "      <td>0</td>\n",
       "      <td>113</td>\n",
       "      <td>111</td>\n",
       "      <td>0</td>\n",
       "      <td>4</td>\n",
       "      <td>4</td>\n",
       "      <td>0</td>\n",
       "      <td>0</td>\n",
       "      <td>0</td>\n",
       "      <td>0.065460</td>\n",
       "      <td>1</td>\n",
       "      <td>0.061794</td>\n",
       "    </tr>\n",
       "  </tbody>\n",
       "</table>\n",
       "</div>"
      ],
      "text/plain": [
       "    numords  totdol  last buyer  dollars  rfm1  rfm2  rec_dec  freq_dec  \\\n",
       "0         7     493   207    no        0   222   211        1         4   \n",
       "1         4     423   625    no        0   421   422        3         3   \n",
       "2         4     246    28    no        0   134   122        0         3   \n",
       "3         3     271   778    no        0   523   532        4         2   \n",
       "4         2     148   396    no        0   343   343        2         1   \n",
       "5        10     937     6    no        0   121   111        0         4   \n",
       "6         7     562    38    no        0   123   111        0         4   \n",
       "7         1     156   759    no        0   552   553        4         0   \n",
       "8         1      59   604    no        0   454   455        3         0   \n",
       "9         1      34     7    no        0   155   155        0         0   \n",
       "10        6     627    71    no        0   122   111        0         4   \n",
       "11        5     379   568    no        0   414   422        3         3   \n",
       "12        2      75   505    no        0   345   344        2         1   \n",
       "13        1      44   101    no        0   154   155        0         0   \n",
       "14       14     386   620    no        0   414   412        3         4   \n",
       "15       10     404   312    no        0   215   212        1         4   \n",
       "16        2     114  1094    no        0   534   544        4         1   \n",
       "17       11     756    22    no        0   114   111        0         4   \n",
       "18        1     104   366    no        0   352   354        2         0   \n",
       "19       22    1282    15    no        0   113   111        0         4   \n",
       "\n",
       "    mv_dec  freq_dec_r  mv_dec_r  buy_dummy  responserate_sq  profitable_sq  \\\n",
       "0        4           0         0          0         0.029308              1   \n",
       "1        3           1         1          0         0.028832              1   \n",
       "2        3           1         1          0         0.043630              1   \n",
       "3        3           2         1          0         0.018349              0   \n",
       "4        2           3         2          0         0.018158              0   \n",
       "5        4           0         0          0         0.031250              1   \n",
       "6        4           0         0          0         0.046802              1   \n",
       "7        2           4         2          0         0.013973              0   \n",
       "8        0           4         4          0         0.010039              0   \n",
       "9        0           4         4          0         0.021968              1   \n",
       "10       4           0         0          0         0.048137              1   \n",
       "11       3           1         1          0         0.022400              1   \n",
       "12       1           3         3          0         0.020910              1   \n",
       "13       0           4         4          0         0.033613              1   \n",
       "14       3           0         1          0         0.022400              1   \n",
       "15       3           0         1          0         0.046828              1   \n",
       "16       1           3         3          0         0.017202              0   \n",
       "17       4           0         0          0         0.065551              1   \n",
       "18       1           4         3          0         0.009740              0   \n",
       "19       4           0         0          0         0.065460              1   \n",
       "\n",
       "    responserate_iq  \n",
       "0          0.049986  \n",
       "1          0.025612  \n",
       "2          0.045492  \n",
       "3          0.018382  \n",
       "4          0.020553  \n",
       "5          0.061794  \n",
       "6          0.061794  \n",
       "7          0.009832  \n",
       "8          0.011859  \n",
       "9          0.028162  \n",
       "10         0.061794  \n",
       "11         0.025612  \n",
       "12         0.020646  \n",
       "13         0.028162  \n",
       "14         0.020202  \n",
       "15         0.031761  \n",
       "16         0.016323  \n",
       "17         0.061794  \n",
       "18         0.012252  \n",
       "19         0.061794  "
      ]
     },
     "execution_count": 22,
     "metadata": {},
     "output_type": "execute_result"
    }
   ],
   "source": [
    "data['responserate_sq']=util.get_means(data['buy_dummy'],data['rfm1'])\n",
    "data['responserate_iq']=util.get_means(data['buy_dummy'],data['rfm2'])\n",
    "data.head(20)"
   ]
  },
  {
   "cell_type": "code",
   "execution_count": 23,
   "metadata": {},
   "outputs": [
    {
     "data": {
      "text/plain": [
       "<AxesSubplot:xlabel='rfm2'>"
      ]
     },
     "execution_count": 23,
     "metadata": {},
     "output_type": "execute_result"
    },
    {
     "data": {
      "image/png": "[encoded data removed]",
      "text/plain": [
       "<Figure size 1224x720 with 1 Axes>"
      ]
     },
     "metadata": {
      "needs_background": "light"
     },
     "output_type": "display_data"
    },
    {
     "data": {
      "image/png": "[encoded data removed]",
      "text/plain": [
       "<Figure size 1224x720 with 1 Axes>"
      ]
     },
     "metadata": {
      "needs_background": "light"
     },
     "output_type": "display_data"
    }
   ],
   "source": [
    "data[ ['buy_dummy','rfm1'] ].groupby('rfm1').mean().plot(kind='bar',figsize=[17, 10])\n",
    "data[ ['buy_dummy','rfm2'] ].groupby('rfm2').mean().plot(kind='bar',figsize=[17, 10])"
   ]
  },
  {
   "cell_type": "code",
   "execution_count": 24,
   "metadata": {},
   "outputs": [
    {
     "name": "stdout",
     "output_type": "stream",
     "text": [
      "325\n"
     ]
    }
   ],
   "source": [
    "max_rfm2 = data['responserate_iq'].idxmax() \n",
    "\n",
    "# Get the bin of max value \n",
    "\n",
    "print (data.loc[max_rfm2 , 'rfm2'] )"
   ]
  },
  {
   "cell_type": "code",
   "execution_count": null,
   "metadata": {},
   "outputs": [],
   "source": []
  }
 ],
 "metadata": {
  "kernelspec": {
   "display_name": "Python [conda env:base] *",
   "language": "python",
   "name": "conda-base-py"
  },
  "language_info": {
   "codemirror_mode": {
    "name": "ipython",
    "version": 3
   },
   "file_extension": ".py",
   "mimetype": "text/x-python",
   "name": "python",
   "nbconvert_exporter": "python",
   "pygments_lexer": "ipython3",
   "version": "3.12.7"
  }
 },
 "nbformat": 4,
 "nbformat_minor": 4
}
